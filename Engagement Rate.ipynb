from sklearn.model_selection import train_test_split
from sklearn.preprocessing import StandardScaler,OneHotEncoder
import pandas as pd
from pandas import DataFrame, Series
import tensorflow as tf
import numpy as np
import os
import seaborn as sns
from matplotlib import pyplot as plt
from matplotlib import ticker
import matplotlib.colors as mc
Importing the GBvideo Dataset
gb_df = pd.read_csv('GBvideo.csv')
gb_df.head(10)
