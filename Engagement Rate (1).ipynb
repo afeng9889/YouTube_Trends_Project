{
 "cells": [
  {
   "cell_type": "markdown",
   "metadata": {},
   "source": [
    "#### Importing the standard Libraries"
   ]
  },
  {
   "cell_type": "code",
   "execution_count": 6,
   "metadata": {},
   "outputs": [],
   "source": [
    "from sklearn.model_selection import train_test_split\n",
    "from sklearn.preprocessing import StandardScaler,OneHotEncoder\n",
    "import pandas as pd\n",
    "from pandas import DataFrame, Series\n",
    "import tensorflow as tf\n",
    "import numpy as np\n",
    "import os\n",
    "import seaborn as sns\n",
    "from matplotlib import pyplot as plt\n",
    "from matplotlib import ticker\n",
    "import matplotlib.colors as mc"
   ]
  },
  {
   "cell_type": "code",
   "execution_count": null,
   "metadata": {},
   "outputs": [],
   "source": []
  },
  {
   "cell_type": "markdown",
   "metadata": {},
   "source": [
    "#### Importing the GBvideo Dataset "
   ]
  },
  {
   "cell_type": "code",
   "execution_count": 11,
   "metadata": {},
   "outputs": [
    {
     "data": {
      "text/html": [
       "<div>\n",
       "<style scoped>\n",
       "    .dataframe tbody tr th:only-of-type {\n",
       "        vertical-align: middle;\n",
       "    }\n",
       "\n",
       "    .dataframe tbody tr th {\n",
       "        vertical-align: top;\n",
       "    }\n",
       "\n",
       "    .dataframe thead th {\n",
       "        text-align: right;\n",
       "    }\n",
       "</style>\n",
       "<table border=\"1\" class=\"dataframe\">\n",
       "  <thead>\n",
       "    <tr style=\"text-align: right;\">\n",
       "      <th></th>\n",
       "      <th>trending_date</th>\n",
       "      <th>title</th>\n",
       "      <th>channel_title</th>\n",
       "      <th>category_id</th>\n",
       "      <th>publish_time</th>\n",
       "      <th>tags</th>\n",
       "      <th>views</th>\n",
       "      <th>likes</th>\n",
       "      <th>dislikes</th>\n",
       "      <th>comment_count</th>\n",
       "      <th>trending_duration</th>\n",
       "    </tr>\n",
       "  </thead>\n",
       "  <tbody>\n",
       "    <tr>\n",
       "      <th>0</th>\n",
       "      <td>11/14/2017</td>\n",
       "      <td>John Lewis Christmas Ad 2017 - #MozTheMonster</td>\n",
       "      <td>John Lewis</td>\n",
       "      <td>26</td>\n",
       "      <td>2017-11-10 07:38:29+00:00</td>\n",
       "      <td>christmas|\"john lewis christmas\"|\"john lewis\"|...</td>\n",
       "      <td>7224515</td>\n",
       "      <td>55681</td>\n",
       "      <td>10247</td>\n",
       "      <td>9479</td>\n",
       "      <td>0 days 06:46:59.000000000</td>\n",
       "    </tr>\n",
       "    <tr>\n",
       "      <th>1</th>\n",
       "      <td>11/14/2017</td>\n",
       "      <td>Taylor Swift: …Ready for It? (Live) - SNL</td>\n",
       "      <td>Saturday Night Live</td>\n",
       "      <td>24</td>\n",
       "      <td>2017-11-12 06:24:44+00:00</td>\n",
       "      <td>SNL|\"Saturday Night Live\"|\"SNL Season 43\"|\"Epi...</td>\n",
       "      <td>1053632</td>\n",
       "      <td>25561</td>\n",
       "      <td>2294</td>\n",
       "      <td>2757</td>\n",
       "      <td>0 days 16:30:00.000000000</td>\n",
       "    </tr>\n",
       "    <tr>\n",
       "      <th>2</th>\n",
       "      <td>11/14/2017</td>\n",
       "      <td>Eminem - Walk On Water (Audio) ft. Beyoncé</td>\n",
       "      <td>EminemVEVO</td>\n",
       "      <td>10</td>\n",
       "      <td>2017-11-10 17:00:03+00:00</td>\n",
       "      <td>Eminem|\"Walk\"|\"On\"|\"Water\"|\"Aftermath/Shady/In...</td>\n",
       "      <td>17158579</td>\n",
       "      <td>787420</td>\n",
       "      <td>43420</td>\n",
       "      <td>125882</td>\n",
       "      <td>1 days 04:54:36.000000000</td>\n",
       "    </tr>\n",
       "    <tr>\n",
       "      <th>3</th>\n",
       "      <td>11/14/2017</td>\n",
       "      <td>Goals from Salford City vs Class of 92 and Fri...</td>\n",
       "      <td>Salford City Football Club</td>\n",
       "      <td>17</td>\n",
       "      <td>2017-11-13 02:30:38+00:00</td>\n",
       "      <td>Salford City FC|\"Salford City\"|\"Salford\"|\"Clas...</td>\n",
       "      <td>27833</td>\n",
       "      <td>193</td>\n",
       "      <td>12</td>\n",
       "      <td>37</td>\n",
       "      <td>0 days 12:59:56.000000000</td>\n",
       "    </tr>\n",
       "    <tr>\n",
       "      <th>4</th>\n",
       "      <td>11/14/2017</td>\n",
       "      <td>Dashcam captures truck's near miss with child ...</td>\n",
       "      <td>Cute Girl Videos</td>\n",
       "      <td>25</td>\n",
       "      <td>2017-11-13 01:45:13+00:00</td>\n",
       "      <td>[none]</td>\n",
       "      <td>9815</td>\n",
       "      <td>30</td>\n",
       "      <td>2</td>\n",
       "      <td>30</td>\n",
       "      <td>1 days 05:58:19.000000000</td>\n",
       "    </tr>\n",
       "    <tr>\n",
       "      <th>5</th>\n",
       "      <td>11/14/2017</td>\n",
       "      <td>How My Relationship Started!</td>\n",
       "      <td>PointlessBlogVlogs</td>\n",
       "      <td>24</td>\n",
       "      <td>2017-11-11 17:00:00+00:00</td>\n",
       "      <td>pointlessblog|\"pointlessblogtv\"|\"pointlessblog...</td>\n",
       "      <td>1182775</td>\n",
       "      <td>52708</td>\n",
       "      <td>1431</td>\n",
       "      <td>2333</td>\n",
       "      <td>0 days 04:52:37.000000000</td>\n",
       "    </tr>\n",
       "    <tr>\n",
       "      <th>6</th>\n",
       "      <td>11/14/2017</td>\n",
       "      <td>Ed Sheeran - Perfect (Official Music Video)</td>\n",
       "      <td>Ed Sheeran</td>\n",
       "      <td>10</td>\n",
       "      <td>2017-11-09 11:04:14+00:00</td>\n",
       "      <td>edsheeran|\"ed sheeran\"|\"acoustic\"|\"live\"|\"cove...</td>\n",
       "      <td>33523622</td>\n",
       "      <td>1634124</td>\n",
       "      <td>21082</td>\n",
       "      <td>85067</td>\n",
       "      <td>1 days 18:22:43.000000000</td>\n",
       "    </tr>\n",
       "    <tr>\n",
       "      <th>7</th>\n",
       "      <td>11/14/2017</td>\n",
       "      <td>CHRISTMAS HAS GONE TO MY HEAD</td>\n",
       "      <td>MoreZoella</td>\n",
       "      <td>22</td>\n",
       "      <td>2017-11-10 19:19:43+00:00</td>\n",
       "      <td>zoe sugg|\"zoella\"|\"zoe\"|\"vlog\"|\"vlogging\"|\"vlo...</td>\n",
       "      <td>1164201</td>\n",
       "      <td>57309</td>\n",
       "      <td>749</td>\n",
       "      <td>624</td>\n",
       "      <td>1 days 02:09:23.000000000</td>\n",
       "    </tr>\n",
       "    <tr>\n",
       "      <th>8</th>\n",
       "      <td>11/14/2017</td>\n",
       "      <td>Elbow - Golden Slumbers (John Lewis Advert 2017)</td>\n",
       "      <td>ElbowVEVO</td>\n",
       "      <td>10</td>\n",
       "      <td>2017-11-10 08:00:01+00:00</td>\n",
       "      <td>Elbow|\"Golden\"|\"Slumbers\"|\"Polydor\"|\"Alternative\"</td>\n",
       "      <td>154494</td>\n",
       "      <td>2163</td>\n",
       "      <td>147</td>\n",
       "      <td>211</td>\n",
       "      <td>0 days 09:59:37.000000000</td>\n",
       "    </tr>\n",
       "    <tr>\n",
       "      <th>9</th>\n",
       "      <td>11/14/2017</td>\n",
       "      <td>Jennifer Lopez - Amor, Amor, Amor (Official Vi...</td>\n",
       "      <td>JenniferLopezVEVO</td>\n",
       "      <td>10</td>\n",
       "      <td>2017-11-10 15:00:00+00:00</td>\n",
       "      <td>Jennifer Lopez ft. Wisin|\"Jennifer Lopez ft. W...</td>\n",
       "      <td>9548677</td>\n",
       "      <td>190084</td>\n",
       "      <td>15015</td>\n",
       "      <td>11473</td>\n",
       "      <td>0 days 10:14:44.000000000</td>\n",
       "    </tr>\n",
       "  </tbody>\n",
       "</table>\n",
       "</div>"
      ],
      "text/plain": [
       "  trending_date                                              title  \\\n",
       "0    11/14/2017      John Lewis Christmas Ad 2017 - #MozTheMonster   \n",
       "1    11/14/2017          Taylor Swift: …Ready for It? (Live) - SNL   \n",
       "2    11/14/2017         Eminem - Walk On Water (Audio) ft. Beyoncé   \n",
       "3    11/14/2017  Goals from Salford City vs Class of 92 and Fri...   \n",
       "4    11/14/2017  Dashcam captures truck's near miss with child ...   \n",
       "5    11/14/2017                       How My Relationship Started!   \n",
       "6    11/14/2017        Ed Sheeran - Perfect (Official Music Video)   \n",
       "7    11/14/2017                      CHRISTMAS HAS GONE TO MY HEAD   \n",
       "8    11/14/2017   Elbow - Golden Slumbers (John Lewis Advert 2017)   \n",
       "9    11/14/2017  Jennifer Lopez - Amor, Amor, Amor (Official Vi...   \n",
       "\n",
       "                channel_title  category_id               publish_time  \\\n",
       "0                  John Lewis           26  2017-11-10 07:38:29+00:00   \n",
       "1         Saturday Night Live           24  2017-11-12 06:24:44+00:00   \n",
       "2                  EminemVEVO           10  2017-11-10 17:00:03+00:00   \n",
       "3  Salford City Football Club           17  2017-11-13 02:30:38+00:00   \n",
       "4            Cute Girl Videos           25  2017-11-13 01:45:13+00:00   \n",
       "5          PointlessBlogVlogs           24  2017-11-11 17:00:00+00:00   \n",
       "6                  Ed Sheeran           10  2017-11-09 11:04:14+00:00   \n",
       "7                  MoreZoella           22  2017-11-10 19:19:43+00:00   \n",
       "8                   ElbowVEVO           10  2017-11-10 08:00:01+00:00   \n",
       "9           JenniferLopezVEVO           10  2017-11-10 15:00:00+00:00   \n",
       "\n",
       "                                                tags     views    likes  \\\n",
       "0  christmas|\"john lewis christmas\"|\"john lewis\"|...   7224515    55681   \n",
       "1  SNL|\"Saturday Night Live\"|\"SNL Season 43\"|\"Epi...   1053632    25561   \n",
       "2  Eminem|\"Walk\"|\"On\"|\"Water\"|\"Aftermath/Shady/In...  17158579   787420   \n",
       "3  Salford City FC|\"Salford City\"|\"Salford\"|\"Clas...     27833      193   \n",
       "4                                             [none]      9815       30   \n",
       "5  pointlessblog|\"pointlessblogtv\"|\"pointlessblog...   1182775    52708   \n",
       "6  edsheeran|\"ed sheeran\"|\"acoustic\"|\"live\"|\"cove...  33523622  1634124   \n",
       "7  zoe sugg|\"zoella\"|\"zoe\"|\"vlog\"|\"vlogging\"|\"vlo...   1164201    57309   \n",
       "8  Elbow|\"Golden\"|\"Slumbers\"|\"Polydor\"|\"Alternative\"    154494     2163   \n",
       "9  Jennifer Lopez ft. Wisin|\"Jennifer Lopez ft. W...   9548677   190084   \n",
       "\n",
       "   dislikes  comment_count          trending_duration  \n",
       "0     10247           9479  0 days 06:46:59.000000000  \n",
       "1      2294           2757  0 days 16:30:00.000000000  \n",
       "2     43420         125882  1 days 04:54:36.000000000  \n",
       "3        12             37  0 days 12:59:56.000000000  \n",
       "4         2             30  1 days 05:58:19.000000000  \n",
       "5      1431           2333  0 days 04:52:37.000000000  \n",
       "6     21082          85067  1 days 18:22:43.000000000  \n",
       "7       749            624  1 days 02:09:23.000000000  \n",
       "8       147            211  0 days 09:59:37.000000000  \n",
       "9     15015          11473  0 days 10:14:44.000000000  "
      ]
     },
     "execution_count": 11,
     "metadata": {},
     "output_type": "execute_result"
    }
   ],
   "source": [
    "gb_df = pd.read_csv('GBvideo.csv')\n",
    "gb_df.head(10)"
   ]
  },
  {
   "cell_type": "code",
   "execution_count": 12,
   "metadata": {},
   "outputs": [
    {
     "data": {
      "text/html": [
       "<div>\n",
       "<style scoped>\n",
       "    .dataframe tbody tr th:only-of-type {\n",
       "        vertical-align: middle;\n",
       "    }\n",
       "\n",
       "    .dataframe tbody tr th {\n",
       "        vertical-align: top;\n",
       "    }\n",
       "\n",
       "    .dataframe thead th {\n",
       "        text-align: right;\n",
       "    }\n",
       "</style>\n",
       "<table border=\"1\" class=\"dataframe\">\n",
       "  <thead>\n",
       "    <tr style=\"text-align: right;\">\n",
       "      <th></th>\n",
       "      <th>category_id</th>\n",
       "      <th>views</th>\n",
       "      <th>likes</th>\n",
       "      <th>dislikes</th>\n",
       "      <th>comment_count</th>\n",
       "    </tr>\n",
       "  </thead>\n",
       "  <tbody>\n",
       "    <tr>\n",
       "      <th>count</th>\n",
       "      <td>38916.000000</td>\n",
       "      <td>3.891600e+04</td>\n",
       "      <td>3.891600e+04</td>\n",
       "      <td>3.891600e+04</td>\n",
       "      <td>3.891600e+04</td>\n",
       "    </tr>\n",
       "    <tr>\n",
       "      <th>mean</th>\n",
       "      <td>16.827937</td>\n",
       "      <td>5.911944e+06</td>\n",
       "      <td>1.345196e+05</td>\n",
       "      <td>7.612560e+03</td>\n",
       "      <td>1.308835e+04</td>\n",
       "    </tr>\n",
       "    <tr>\n",
       "      <th>std</th>\n",
       "      <td>7.752728</td>\n",
       "      <td>1.900121e+07</td>\n",
       "      <td>3.499893e+05</td>\n",
       "      <td>5.095683e+04</td>\n",
       "      <td>5.066740e+04</td>\n",
       "    </tr>\n",
       "    <tr>\n",
       "      <th>min</th>\n",
       "      <td>1.000000</td>\n",
       "      <td>8.510000e+02</td>\n",
       "      <td>0.000000e+00</td>\n",
       "      <td>0.000000e+00</td>\n",
       "      <td>0.000000e+00</td>\n",
       "    </tr>\n",
       "    <tr>\n",
       "      <th>25%</th>\n",
       "      <td>10.000000</td>\n",
       "      <td>2.515272e+05</td>\n",
       "      <td>5.897000e+03</td>\n",
       "      <td>2.000000e+02</td>\n",
       "      <td>6.790000e+02</td>\n",
       "    </tr>\n",
       "    <tr>\n",
       "      <th>50%</th>\n",
       "      <td>20.000000</td>\n",
       "      <td>9.818890e+05</td>\n",
       "      <td>2.518250e+04</td>\n",
       "      <td>8.210000e+02</td>\n",
       "      <td>2.478000e+03</td>\n",
       "    </tr>\n",
       "    <tr>\n",
       "      <th>75%</th>\n",
       "      <td>24.000000</td>\n",
       "      <td>3.683628e+06</td>\n",
       "      <td>1.140892e+05</td>\n",
       "      <td>3.357500e+03</td>\n",
       "      <td>9.241500e+03</td>\n",
       "    </tr>\n",
       "    <tr>\n",
       "      <th>max</th>\n",
       "      <td>43.000000</td>\n",
       "      <td>4.245389e+08</td>\n",
       "      <td>5.613827e+06</td>\n",
       "      <td>1.944971e+06</td>\n",
       "      <td>1.626501e+06</td>\n",
       "    </tr>\n",
       "  </tbody>\n",
       "</table>\n",
       "</div>"
      ],
      "text/plain": [
       "        category_id         views         likes      dislikes  comment_count\n",
       "count  38916.000000  3.891600e+04  3.891600e+04  3.891600e+04   3.891600e+04\n",
       "mean      16.827937  5.911944e+06  1.345196e+05  7.612560e+03   1.308835e+04\n",
       "std        7.752728  1.900121e+07  3.499893e+05  5.095683e+04   5.066740e+04\n",
       "min        1.000000  8.510000e+02  0.000000e+00  0.000000e+00   0.000000e+00\n",
       "25%       10.000000  2.515272e+05  5.897000e+03  2.000000e+02   6.790000e+02\n",
       "50%       20.000000  9.818890e+05  2.518250e+04  8.210000e+02   2.478000e+03\n",
       "75%       24.000000  3.683628e+06  1.140892e+05  3.357500e+03   9.241500e+03\n",
       "max       43.000000  4.245389e+08  5.613827e+06  1.944971e+06   1.626501e+06"
      ]
     },
     "execution_count": 12,
     "metadata": {},
     "output_type": "execute_result"
    }
   ],
   "source": [
    "gb_df.describe()"
   ]
  },
  {
   "cell_type": "markdown",
   "metadata": {},
   "source": [
    "### Now we need to calculate the engagement rate "
   ]
  },
  {
   "cell_type": "markdown",
   "metadata": {},
   "source": [
    "##### As per the formula, Engagement Rate = (comment_count + like + dislike)/ views x 100"
   ]
  },
  {
   "cell_type": "code",
   "execution_count": 13,
   "metadata": {},
   "outputs": [
    {
     "data": {
      "text/plain": [
       "array([  9479,   2757, 125882,     37,     30], dtype=int64)"
      ]
     },
     "execution_count": 13,
     "metadata": {},
     "output_type": "execute_result"
    }
   ],
   "source": [
    "comment_count = gb_df['comment_count'].values\n",
    "comment_count[:5]"
   ]
  },
  {
   "cell_type": "code",
   "execution_count": 14,
   "metadata": {},
   "outputs": [
    {
     "data": {
      "text/plain": [
       "array([ 55681,  25561, 787420,    193,     30], dtype=int64)"
      ]
     },
     "execution_count": 14,
     "metadata": {},
     "output_type": "execute_result"
    }
   ],
   "source": [
    "likes = gb_df['likes'].values\n",
    "likes[:5]"
   ]
  },
  {
   "cell_type": "code",
   "execution_count": 15,
   "metadata": {},
   "outputs": [
    {
     "data": {
      "text/plain": [
       "array([10247,  2294, 43420,    12,     2], dtype=int64)"
      ]
     },
     "execution_count": 15,
     "metadata": {},
     "output_type": "execute_result"
    }
   ],
   "source": [
    "dislikes = gb_df[\"dislikes\"].values\n",
    "dislikes[:5]"
   ]
  },
  {
   "cell_type": "code",
   "execution_count": 16,
   "metadata": {},
   "outputs": [
    {
     "data": {
      "text/plain": [
       "array([ 7224515,  1053632, 17158579,    27833,     9815], dtype=int64)"
      ]
     },
     "execution_count": 16,
     "metadata": {},
     "output_type": "execute_result"
    }
   ],
   "source": [
    "views = gb_df[\"views\"].values\n",
    "views[:5]"
   ]
  },
  {
   "cell_type": "code",
   "execution_count": 17,
   "metadata": {},
   "outputs": [],
   "source": [
    "total = (comment_count + likes + dislikes)"
   ]
  },
  {
   "cell_type": "code",
   "execution_count": 19,
   "metadata": {},
   "outputs": [],
   "source": [
    "Engagement_rate = total/views*100"
   ]
  },
  {
   "cell_type": "code",
   "execution_count": 20,
   "metadata": {},
   "outputs": [
    {
     "data": {
      "text/plain": [
       "array([1.04376557, 2.90537873, 5.57576475, 0.86947149, 0.63168619])"
      ]
     },
     "execution_count": 20,
     "metadata": {},
     "output_type": "execute_result"
    }
   ],
   "source": [
    "Engagement_rate"
   ]
  },
  {
   "cell_type": "markdown",
   "metadata": {},
   "source": [
    "#### adding Variable to the dataset and saving dataset to disk"
   ]
  },
  {
   "cell_type": "code",
   "execution_count": 21,
   "metadata": {},
   "outputs": [],
   "source": [
    "gb_df['ER_View'] = Engagement_rate"
   ]
  },
  {
   "cell_type": "code",
   "execution_count": 22,
   "metadata": {},
   "outputs": [],
   "source": [
    "gb_df.to_csv(\"result_gbvideos.csv\")"
   ]
  },
  {
   "cell_type": "code",
   "execution_count": null,
   "metadata": {},
   "outputs": [],
   "source": []
  }
 ],
 "metadata": {
  "kernelspec": {
   "display_name": "Python 3",
   "language": "python",
   "name": "python3"
  },
  "language_info": {
   "codemirror_mode": {
    "name": "ipython",
    "version": 3
   },
   "file_extension": ".py",
   "mimetype": "text/x-python",
   "name": "python",
   "nbconvert_exporter": "python",
   "pygments_lexer": "ipython3",
   "version": "3.7.7"
  }
 },
 "nbformat": 4,
 "nbformat_minor": 4
}
