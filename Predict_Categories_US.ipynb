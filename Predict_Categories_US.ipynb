{
 "cells": [
  {
   "cell_type": "markdown",
   "metadata": {},
   "source": [
    "### Import our dependencies"
   ]
  },
  {
   "cell_type": "code",
   "execution_count": 1,
   "metadata": {},
   "outputs": [],
   "source": [
    "import pandas as pd\n",
    "import matplotlib as plt\n",
    "from sklearn.datasets import make_blobs\n",
    "import sklearn as skl\n",
    "import tensorflow as tf\n",
    "from sklearn.model_selection import train_test_split\n",
    "from sklearn.preprocessing import StandardScaler,OneHotEncoder\n",
    "import numpy as np\n",
    "import os\n",
    "import seaborn as sns\n",
    "from matplotlib import pyplot as plt\n",
    "from matplotlib import ticker\n",
    "import matplotlib.colors as mc\n",
    "import statsmodels.formula.api as sm\n",
    "from sklearn.metrics import balanced_accuracy_score\n",
    "from sklearn.metrics import confusion_matrix\n",
    "from imblearn.metrics import classification_report_imbalanced\n",
    "from sklearn.feature_extraction.text import CountVectorizer\n",
    "from sklearn.naive_bayes import MultinomialNB\n",
    "import json"
   ]
  },
  {
   "cell_type": "markdown",
   "metadata": {},
   "source": [
    "### Read our CSV"
   ]
  },
  {
   "cell_type": "code",
   "execution_count": 2,
   "metadata": {},
   "outputs": [],
   "source": [
    "us_df = pd.read_csv('USvideos.csv')"
   ]
  },
  {
   "cell_type": "code",
   "execution_count": 5,
   "metadata": {
    "scrolled": false
   },
   "outputs": [
    {
     "data": {
      "text/html": [
       "<div>\n",
       "<style scoped>\n",
       "    .dataframe tbody tr th:only-of-type {\n",
       "        vertical-align: middle;\n",
       "    }\n",
       "\n",
       "    .dataframe tbody tr th {\n",
       "        vertical-align: top;\n",
       "    }\n",
       "\n",
       "    .dataframe thead th {\n",
       "        text-align: right;\n",
       "    }\n",
       "</style>\n",
       "<table border=\"1\" class=\"dataframe\">\n",
       "  <thead>\n",
       "    <tr style=\"text-align: right;\">\n",
       "      <th></th>\n",
       "      <th>video_id</th>\n",
       "      <th>trending_date</th>\n",
       "      <th>title</th>\n",
       "      <th>channel_title</th>\n",
       "      <th>category_id</th>\n",
       "      <th>publish_time</th>\n",
       "      <th>tags</th>\n",
       "      <th>views</th>\n",
       "      <th>likes</th>\n",
       "      <th>dislikes</th>\n",
       "      <th>comment_count</th>\n",
       "      <th>thumbnail_link</th>\n",
       "      <th>comments_disabled</th>\n",
       "      <th>ratings_disabled</th>\n",
       "      <th>video_error_or_removed</th>\n",
       "      <th>description</th>\n",
       "    </tr>\n",
       "  </thead>\n",
       "  <tbody>\n",
       "    <tr>\n",
       "      <th>0</th>\n",
       "      <td>2kyS6SvSYSE</td>\n",
       "      <td>17.14.11</td>\n",
       "      <td>WE WANT TO TALK ABOUT OUR MARRIAGE</td>\n",
       "      <td>CaseyNeistat</td>\n",
       "      <td>22</td>\n",
       "      <td>2017-11-13T17:13:01.000Z</td>\n",
       "      <td>SHANtell martin</td>\n",
       "      <td>748374</td>\n",
       "      <td>57527</td>\n",
       "      <td>2966</td>\n",
       "      <td>15954</td>\n",
       "      <td>https://i.ytimg.com/vi/2kyS6SvSYSE/default.jpg</td>\n",
       "      <td>False</td>\n",
       "      <td>False</td>\n",
       "      <td>False</td>\n",
       "      <td>SHANTELL'S CHANNEL - https://www.youtube.com/s...</td>\n",
       "    </tr>\n",
       "    <tr>\n",
       "      <th>1</th>\n",
       "      <td>1ZAPwfrtAFY</td>\n",
       "      <td>17.14.11</td>\n",
       "      <td>The Trump Presidency: Last Week Tonight with J...</td>\n",
       "      <td>LastWeekTonight</td>\n",
       "      <td>24</td>\n",
       "      <td>2017-11-13T07:30:00.000Z</td>\n",
       "      <td>last week tonight trump presidency|\"last week ...</td>\n",
       "      <td>2418783</td>\n",
       "      <td>97185</td>\n",
       "      <td>6146</td>\n",
       "      <td>12703</td>\n",
       "      <td>https://i.ytimg.com/vi/1ZAPwfrtAFY/default.jpg</td>\n",
       "      <td>False</td>\n",
       "      <td>False</td>\n",
       "      <td>False</td>\n",
       "      <td>One year after the presidential election, John...</td>\n",
       "    </tr>\n",
       "    <tr>\n",
       "      <th>2</th>\n",
       "      <td>5qpjK5DgCt4</td>\n",
       "      <td>17.14.11</td>\n",
       "      <td>Racist Superman | Rudy Mancuso, King Bach &amp; Le...</td>\n",
       "      <td>Rudy Mancuso</td>\n",
       "      <td>23</td>\n",
       "      <td>2017-11-12T19:05:24.000Z</td>\n",
       "      <td>racist superman|\"rudy\"|\"mancuso\"|\"king\"|\"bach\"...</td>\n",
       "      <td>3191434</td>\n",
       "      <td>146033</td>\n",
       "      <td>5339</td>\n",
       "      <td>8181</td>\n",
       "      <td>https://i.ytimg.com/vi/5qpjK5DgCt4/default.jpg</td>\n",
       "      <td>False</td>\n",
       "      <td>False</td>\n",
       "      <td>False</td>\n",
       "      <td>WATCH MY PREVIOUS VIDEO ▶ \\n\\nSUBSCRIBE ► http...</td>\n",
       "    </tr>\n",
       "    <tr>\n",
       "      <th>3</th>\n",
       "      <td>puqaWrEC7tY</td>\n",
       "      <td>17.14.11</td>\n",
       "      <td>Nickelback Lyrics: Real or Fake?</td>\n",
       "      <td>Good Mythical Morning</td>\n",
       "      <td>24</td>\n",
       "      <td>2017-11-13T11:00:04.000Z</td>\n",
       "      <td>rhett and link|\"gmm\"|\"good mythical morning\"|\"...</td>\n",
       "      <td>343168</td>\n",
       "      <td>10172</td>\n",
       "      <td>666</td>\n",
       "      <td>2146</td>\n",
       "      <td>https://i.ytimg.com/vi/puqaWrEC7tY/default.jpg</td>\n",
       "      <td>False</td>\n",
       "      <td>False</td>\n",
       "      <td>False</td>\n",
       "      <td>Today we find out if Link is a Nickelback amat...</td>\n",
       "    </tr>\n",
       "    <tr>\n",
       "      <th>4</th>\n",
       "      <td>d380meD0W0M</td>\n",
       "      <td>17.14.11</td>\n",
       "      <td>I Dare You: GOING BALD!?</td>\n",
       "      <td>nigahiga</td>\n",
       "      <td>24</td>\n",
       "      <td>2017-11-12T18:01:41.000Z</td>\n",
       "      <td>ryan|\"higa\"|\"higatv\"|\"nigahiga\"|\"i dare you\"|\"...</td>\n",
       "      <td>2095731</td>\n",
       "      <td>132235</td>\n",
       "      <td>1989</td>\n",
       "      <td>17518</td>\n",
       "      <td>https://i.ytimg.com/vi/d380meD0W0M/default.jpg</td>\n",
       "      <td>False</td>\n",
       "      <td>False</td>\n",
       "      <td>False</td>\n",
       "      <td>I know it's been a while since we did this sho...</td>\n",
       "    </tr>\n",
       "    <tr>\n",
       "      <th>5</th>\n",
       "      <td>gHZ1Qz0KiKM</td>\n",
       "      <td>17.14.11</td>\n",
       "      <td>2 Weeks with iPhone X</td>\n",
       "      <td>iJustine</td>\n",
       "      <td>28</td>\n",
       "      <td>2017-11-13T19:07:23.000Z</td>\n",
       "      <td>ijustine|\"week with iPhone X\"|\"iphone x\"|\"appl...</td>\n",
       "      <td>119180</td>\n",
       "      <td>9763</td>\n",
       "      <td>511</td>\n",
       "      <td>1434</td>\n",
       "      <td>https://i.ytimg.com/vi/gHZ1Qz0KiKM/default.jpg</td>\n",
       "      <td>False</td>\n",
       "      <td>False</td>\n",
       "      <td>False</td>\n",
       "      <td>Using the iPhone for the past two weeks -- her...</td>\n",
       "    </tr>\n",
       "    <tr>\n",
       "      <th>6</th>\n",
       "      <td>39idVpFF7NQ</td>\n",
       "      <td>17.14.11</td>\n",
       "      <td>Roy Moore &amp; Jeff Sessions Cold Open - SNL</td>\n",
       "      <td>Saturday Night Live</td>\n",
       "      <td>24</td>\n",
       "      <td>2017-11-12T05:37:17.000Z</td>\n",
       "      <td>SNL|\"Saturday Night Live\"|\"SNL Season 43\"|\"Epi...</td>\n",
       "      <td>2103417</td>\n",
       "      <td>15993</td>\n",
       "      <td>2445</td>\n",
       "      <td>1970</td>\n",
       "      <td>https://i.ytimg.com/vi/39idVpFF7NQ/default.jpg</td>\n",
       "      <td>False</td>\n",
       "      <td>False</td>\n",
       "      <td>False</td>\n",
       "      <td>Embattled Alabama Senate candidate Roy Moore (...</td>\n",
       "    </tr>\n",
       "    <tr>\n",
       "      <th>7</th>\n",
       "      <td>nc99ccSXST0</td>\n",
       "      <td>17.14.11</td>\n",
       "      <td>5 Ice Cream Gadgets put to the Test</td>\n",
       "      <td>CrazyRussianHacker</td>\n",
       "      <td>28</td>\n",
       "      <td>2017-11-12T21:50:37.000Z</td>\n",
       "      <td>5 Ice Cream Gadgets|\"Ice Cream\"|\"Cream Sandwic...</td>\n",
       "      <td>817732</td>\n",
       "      <td>23663</td>\n",
       "      <td>778</td>\n",
       "      <td>3432</td>\n",
       "      <td>https://i.ytimg.com/vi/nc99ccSXST0/default.jpg</td>\n",
       "      <td>False</td>\n",
       "      <td>False</td>\n",
       "      <td>False</td>\n",
       "      <td>Ice Cream Pint Combination Lock - http://amzn....</td>\n",
       "    </tr>\n",
       "    <tr>\n",
       "      <th>8</th>\n",
       "      <td>jr9QtXwC9vc</td>\n",
       "      <td>17.14.11</td>\n",
       "      <td>The Greatest Showman | Official Trailer 2 [HD]...</td>\n",
       "      <td>20th Century Fox</td>\n",
       "      <td>1</td>\n",
       "      <td>2017-11-13T14:00:23.000Z</td>\n",
       "      <td>Trailer|\"Hugh Jackman\"|\"Michelle Williams\"|\"Za...</td>\n",
       "      <td>826059</td>\n",
       "      <td>3543</td>\n",
       "      <td>119</td>\n",
       "      <td>340</td>\n",
       "      <td>https://i.ytimg.com/vi/jr9QtXwC9vc/default.jpg</td>\n",
       "      <td>False</td>\n",
       "      <td>False</td>\n",
       "      <td>False</td>\n",
       "      <td>Inspired by the imagination of P.T. Barnum, Th...</td>\n",
       "    </tr>\n",
       "    <tr>\n",
       "      <th>9</th>\n",
       "      <td>TUmyygCMMGA</td>\n",
       "      <td>17.14.11</td>\n",
       "      <td>Why the rise of the robots won’t mean the end ...</td>\n",
       "      <td>Vox</td>\n",
       "      <td>25</td>\n",
       "      <td>2017-11-13T13:45:16.000Z</td>\n",
       "      <td>vox.com|\"vox\"|\"explain\"|\"shift change\"|\"future...</td>\n",
       "      <td>256426</td>\n",
       "      <td>12654</td>\n",
       "      <td>1363</td>\n",
       "      <td>2368</td>\n",
       "      <td>https://i.ytimg.com/vi/TUmyygCMMGA/default.jpg</td>\n",
       "      <td>False</td>\n",
       "      <td>False</td>\n",
       "      <td>False</td>\n",
       "      <td>For now, at least, we have better things to wo...</td>\n",
       "    </tr>\n",
       "  </tbody>\n",
       "</table>\n",
       "</div>"
      ],
      "text/plain": [
       "      video_id trending_date  \\\n",
       "0  2kyS6SvSYSE      17.14.11   \n",
       "1  1ZAPwfrtAFY      17.14.11   \n",
       "2  5qpjK5DgCt4      17.14.11   \n",
       "3  puqaWrEC7tY      17.14.11   \n",
       "4  d380meD0W0M      17.14.11   \n",
       "5  gHZ1Qz0KiKM      17.14.11   \n",
       "6  39idVpFF7NQ      17.14.11   \n",
       "7  nc99ccSXST0      17.14.11   \n",
       "8  jr9QtXwC9vc      17.14.11   \n",
       "9  TUmyygCMMGA      17.14.11   \n",
       "\n",
       "                                               title          channel_title  \\\n",
       "0                 WE WANT TO TALK ABOUT OUR MARRIAGE           CaseyNeistat   \n",
       "1  The Trump Presidency: Last Week Tonight with J...        LastWeekTonight   \n",
       "2  Racist Superman | Rudy Mancuso, King Bach & Le...           Rudy Mancuso   \n",
       "3                   Nickelback Lyrics: Real or Fake?  Good Mythical Morning   \n",
       "4                           I Dare You: GOING BALD!?               nigahiga   \n",
       "5                              2 Weeks with iPhone X               iJustine   \n",
       "6          Roy Moore & Jeff Sessions Cold Open - SNL    Saturday Night Live   \n",
       "7                5 Ice Cream Gadgets put to the Test     CrazyRussianHacker   \n",
       "8  The Greatest Showman | Official Trailer 2 [HD]...       20th Century Fox   \n",
       "9  Why the rise of the robots won’t mean the end ...                    Vox   \n",
       "\n",
       "   category_id              publish_time  \\\n",
       "0           22  2017-11-13T17:13:01.000Z   \n",
       "1           24  2017-11-13T07:30:00.000Z   \n",
       "2           23  2017-11-12T19:05:24.000Z   \n",
       "3           24  2017-11-13T11:00:04.000Z   \n",
       "4           24  2017-11-12T18:01:41.000Z   \n",
       "5           28  2017-11-13T19:07:23.000Z   \n",
       "6           24  2017-11-12T05:37:17.000Z   \n",
       "7           28  2017-11-12T21:50:37.000Z   \n",
       "8            1  2017-11-13T14:00:23.000Z   \n",
       "9           25  2017-11-13T13:45:16.000Z   \n",
       "\n",
       "                                                tags    views   likes  \\\n",
       "0                                    SHANtell martin   748374   57527   \n",
       "1  last week tonight trump presidency|\"last week ...  2418783   97185   \n",
       "2  racist superman|\"rudy\"|\"mancuso\"|\"king\"|\"bach\"...  3191434  146033   \n",
       "3  rhett and link|\"gmm\"|\"good mythical morning\"|\"...   343168   10172   \n",
       "4  ryan|\"higa\"|\"higatv\"|\"nigahiga\"|\"i dare you\"|\"...  2095731  132235   \n",
       "5  ijustine|\"week with iPhone X\"|\"iphone x\"|\"appl...   119180    9763   \n",
       "6  SNL|\"Saturday Night Live\"|\"SNL Season 43\"|\"Epi...  2103417   15993   \n",
       "7  5 Ice Cream Gadgets|\"Ice Cream\"|\"Cream Sandwic...   817732   23663   \n",
       "8  Trailer|\"Hugh Jackman\"|\"Michelle Williams\"|\"Za...   826059    3543   \n",
       "9  vox.com|\"vox\"|\"explain\"|\"shift change\"|\"future...   256426   12654   \n",
       "\n",
       "   dislikes  comment_count                                  thumbnail_link  \\\n",
       "0      2966          15954  https://i.ytimg.com/vi/2kyS6SvSYSE/default.jpg   \n",
       "1      6146          12703  https://i.ytimg.com/vi/1ZAPwfrtAFY/default.jpg   \n",
       "2      5339           8181  https://i.ytimg.com/vi/5qpjK5DgCt4/default.jpg   \n",
       "3       666           2146  https://i.ytimg.com/vi/puqaWrEC7tY/default.jpg   \n",
       "4      1989          17518  https://i.ytimg.com/vi/d380meD0W0M/default.jpg   \n",
       "5       511           1434  https://i.ytimg.com/vi/gHZ1Qz0KiKM/default.jpg   \n",
       "6      2445           1970  https://i.ytimg.com/vi/39idVpFF7NQ/default.jpg   \n",
       "7       778           3432  https://i.ytimg.com/vi/nc99ccSXST0/default.jpg   \n",
       "8       119            340  https://i.ytimg.com/vi/jr9QtXwC9vc/default.jpg   \n",
       "9      1363           2368  https://i.ytimg.com/vi/TUmyygCMMGA/default.jpg   \n",
       "\n",
       "   comments_disabled  ratings_disabled  video_error_or_removed  \\\n",
       "0              False             False                   False   \n",
       "1              False             False                   False   \n",
       "2              False             False                   False   \n",
       "3              False             False                   False   \n",
       "4              False             False                   False   \n",
       "5              False             False                   False   \n",
       "6              False             False                   False   \n",
       "7              False             False                   False   \n",
       "8              False             False                   False   \n",
       "9              False             False                   False   \n",
       "\n",
       "                                         description  \n",
       "0  SHANTELL'S CHANNEL - https://www.youtube.com/s...  \n",
       "1  One year after the presidential election, John...  \n",
       "2  WATCH MY PREVIOUS VIDEO ▶ \\n\\nSUBSCRIBE ► http...  \n",
       "3  Today we find out if Link is a Nickelback amat...  \n",
       "4  I know it's been a while since we did this sho...  \n",
       "5  Using the iPhone for the past two weeks -- her...  \n",
       "6  Embattled Alabama Senate candidate Roy Moore (...  \n",
       "7  Ice Cream Pint Combination Lock - http://amzn....  \n",
       "8  Inspired by the imagination of P.T. Barnum, Th...  \n",
       "9  For now, at least, we have better things to wo...  "
      ]
     },
     "execution_count": 5,
     "metadata": {},
     "output_type": "execute_result"
    }
   ],
   "source": [
    "us_df.head(10)"
   ]
  },
  {
   "cell_type": "code",
   "execution_count": 6,
   "metadata": {},
   "outputs": [],
   "source": [
    "# Remove unecessary columns\n",
    "del_col = ['video_id','thumbnail_link','comments_disabled','ratings_disabled','video_error_or_removed','description']\n",
    "us_df = us_df.drop(del_col, axis=1)"
   ]
  },
  {
   "cell_type": "markdown",
   "metadata": {},
   "source": [
    "### Read json file "
   ]
  },
  {
   "cell_type": "code",
   "execution_count": 8,
   "metadata": {
    "scrolled": false
   },
   "outputs": [
    {
     "name": "stdout",
     "output_type": "stream",
     "text": [
      "{'kind': 'youtube#videoCategoryListResponse', 'etag': '\"m2yskBQFythfE4irbTIeOgYYfBU/S730Ilt-Fi-emsQJvJAAShlR6hM\"', 'items': [{'kind': 'youtube#videoCategory', 'etag': '\"m2yskBQFythfE4irbTIeOgYYfBU/Xy1mB4_yLrHy_BmKmPBggty2mZQ\"', 'id': '1', 'snippet': {'channelId': 'UCBR8-60-B28hp2BmDPdntcQ', 'title': 'Film & Animation', 'assignable': True}}, {'kind': 'youtube#videoCategory', 'etag': '\"m2yskBQFythfE4irbTIeOgYYfBU/UZ1oLIIz2dxIhO45ZTFR3a3NyTA\"', 'id': '2', 'snippet': {'channelId': 'UCBR8-60-B28hp2BmDPdntcQ', 'title': 'Autos & Vehicles', 'assignable': True}}, {'kind': 'youtube#videoCategory', 'etag': '\"m2yskBQFythfE4irbTIeOgYYfBU/nqRIq97-xe5XRZTxbknKFVe5Lmg\"', 'id': '10', 'snippet': {'channelId': 'UCBR8-60-B28hp2BmDPdntcQ', 'title': 'Music', 'assignable': True}}, {'kind': 'youtube#videoCategory', 'etag': '\"m2yskBQFythfE4irbTIeOgYYfBU/HwXKamM1Q20q9BN-oBJavSGkfDI\"', 'id': '15', 'snippet': {'channelId': 'UCBR8-60-B28hp2BmDPdntcQ', 'title': 'Pets & Animals', 'assignable': True}}, {'kind': 'youtube#videoCategory', 'etag': '\"m2yskBQFythfE4irbTIeOgYYfBU/9GQMSRjrZdHeb1OEM1XVQ9zbGec\"', 'id': '17', 'snippet': {'channelId': 'UCBR8-60-B28hp2BmDPdntcQ', 'title': 'Sports', 'assignable': True}}, {'kind': 'youtube#videoCategory', 'etag': '\"m2yskBQFythfE4irbTIeOgYYfBU/FJwVpGCVZ1yiJrqZbpqe68Sy_OE\"', 'id': '18', 'snippet': {'channelId': 'UCBR8-60-B28hp2BmDPdntcQ', 'title': 'Short Movies', 'assignable': False}}, {'kind': 'youtube#videoCategory', 'etag': '\"m2yskBQFythfE4irbTIeOgYYfBU/M-3iD9dwK7YJCafRf_DkLN8CouA\"', 'id': '19', 'snippet': {'channelId': 'UCBR8-60-B28hp2BmDPdntcQ', 'title': 'Travel & Events', 'assignable': True}}, {'kind': 'youtube#videoCategory', 'etag': '\"m2yskBQFythfE4irbTIeOgYYfBU/WmA0qYEfjWsAoyJFSw2zinhn2wM\"', 'id': '20', 'snippet': {'channelId': 'UCBR8-60-B28hp2BmDPdntcQ', 'title': 'Gaming', 'assignable': True}}, {'kind': 'youtube#videoCategory', 'etag': '\"m2yskBQFythfE4irbTIeOgYYfBU/EapFaGYG7K0StIXVf8aba249tdM\"', 'id': '21', 'snippet': {'channelId': 'UCBR8-60-B28hp2BmDPdntcQ', 'title': 'Videoblogging', 'assignable': False}}, {'kind': 'youtube#videoCategory', 'etag': '\"m2yskBQFythfE4irbTIeOgYYfBU/xId8RX7vRN8rqkbYZbNIytUQDRo\"', 'id': '22', 'snippet': {'channelId': 'UCBR8-60-B28hp2BmDPdntcQ', 'title': 'People & Blogs', 'assignable': True}}, {'kind': 'youtube#videoCategory', 'etag': '\"m2yskBQFythfE4irbTIeOgYYfBU/G9LHzQmx44rX2S5yaga_Aqtwz8M\"', 'id': '23', 'snippet': {'channelId': 'UCBR8-60-B28hp2BmDPdntcQ', 'title': 'Comedy', 'assignable': True}}, {'kind': 'youtube#videoCategory', 'etag': '\"m2yskBQFythfE4irbTIeOgYYfBU/UVB9oxX2Bvqa_w_y3vXSLVK5E_s\"', 'id': '24', 'snippet': {'channelId': 'UCBR8-60-B28hp2BmDPdntcQ', 'title': 'Entertainment', 'assignable': True}}, {'kind': 'youtube#videoCategory', 'etag': '\"m2yskBQFythfE4irbTIeOgYYfBU/QiLK0ZIrFoORdk_g2l_XR_ECjDc\"', 'id': '25', 'snippet': {'channelId': 'UCBR8-60-B28hp2BmDPdntcQ', 'title': 'News & Politics', 'assignable': True}}, {'kind': 'youtube#videoCategory', 'etag': '\"m2yskBQFythfE4irbTIeOgYYfBU/r6Ck6Z0_L0rG37VJQR200SGNA_w\"', 'id': '26', 'snippet': {'channelId': 'UCBR8-60-B28hp2BmDPdntcQ', 'title': 'Howto & Style', 'assignable': True}}, {'kind': 'youtube#videoCategory', 'etag': '\"m2yskBQFythfE4irbTIeOgYYfBU/EoYkczo9I3RCf96RveKTOgOPkUM\"', 'id': '27', 'snippet': {'channelId': 'UCBR8-60-B28hp2BmDPdntcQ', 'title': 'Education', 'assignable': True}}, {'kind': 'youtube#videoCategory', 'etag': '\"m2yskBQFythfE4irbTIeOgYYfBU/w5HjcTD82G_XA3xBctS30zS-JpQ\"', 'id': '28', 'snippet': {'channelId': 'UCBR8-60-B28hp2BmDPdntcQ', 'title': 'Science & Technology', 'assignable': True}}, {'kind': 'youtube#videoCategory', 'etag': '\"m2yskBQFythfE4irbTIeOgYYfBU/SalkJoBWq_smSEqiAx_qyri6Wa8\"', 'id': '29', 'snippet': {'channelId': 'UCBR8-60-B28hp2BmDPdntcQ', 'title': 'Nonprofits & Activism', 'assignable': True}}, {'kind': 'youtube#videoCategory', 'etag': '\"m2yskBQFythfE4irbTIeOgYYfBU/lL7uWDr_071CHxifjYG1tJrp4Uo\"', 'id': '30', 'snippet': {'channelId': 'UCBR8-60-B28hp2BmDPdntcQ', 'title': 'Movies', 'assignable': False}}, {'kind': 'youtube#videoCategory', 'etag': '\"m2yskBQFythfE4irbTIeOgYYfBU/WnuVfjO-PyFLO7NTRQIbrGE62nk\"', 'id': '31', 'snippet': {'channelId': 'UCBR8-60-B28hp2BmDPdntcQ', 'title': 'Anime/Animation', 'assignable': False}}, {'kind': 'youtube#videoCategory', 'etag': '\"m2yskBQFythfE4irbTIeOgYYfBU/ctpH2hGA_UZ3volJT_FTlOg9M00\"', 'id': '32', 'snippet': {'channelId': 'UCBR8-60-B28hp2BmDPdntcQ', 'title': 'Action/Adventure', 'assignable': False}}, {'kind': 'youtube#videoCategory', 'etag': '\"m2yskBQFythfE4irbTIeOgYYfBU/L0kR3-g1BAo5UD1PLVbQ7LkkDtQ\"', 'id': '33', 'snippet': {'channelId': 'UCBR8-60-B28hp2BmDPdntcQ', 'title': 'Classics', 'assignable': False}}, {'kind': 'youtube#videoCategory', 'etag': '\"m2yskBQFythfE4irbTIeOgYYfBU/pUZOAC_s9sfiwar639qr_wAB-aI\"', 'id': '34', 'snippet': {'channelId': 'UCBR8-60-B28hp2BmDPdntcQ', 'title': 'Comedy', 'assignable': False}}, {'kind': 'youtube#videoCategory', 'etag': '\"m2yskBQFythfE4irbTIeOgYYfBU/Xb5JLhtyNRN3AQq021Ds-OV50Jk\"', 'id': '35', 'snippet': {'channelId': 'UCBR8-60-B28hp2BmDPdntcQ', 'title': 'Documentary', 'assignable': False}}, {'kind': 'youtube#videoCategory', 'etag': '\"m2yskBQFythfE4irbTIeOgYYfBU/u8WXzF4HIhtEi805__sqjuA4lEk\"', 'id': '36', 'snippet': {'channelId': 'UCBR8-60-B28hp2BmDPdntcQ', 'title': 'Drama', 'assignable': False}}, {'kind': 'youtube#videoCategory', 'etag': '\"m2yskBQFythfE4irbTIeOgYYfBU/D04PP4Gr7wc4IV_O9G66Z4A8KWQ\"', 'id': '37', 'snippet': {'channelId': 'UCBR8-60-B28hp2BmDPdntcQ', 'title': 'Family', 'assignable': False}}, {'kind': 'youtube#videoCategory', 'etag': '\"m2yskBQFythfE4irbTIeOgYYfBU/i5-_AceGXQCEEMWU0V8CcQm_vLQ\"', 'id': '38', 'snippet': {'channelId': 'UCBR8-60-B28hp2BmDPdntcQ', 'title': 'Foreign', 'assignable': False}}, {'kind': 'youtube#videoCategory', 'etag': '\"m2yskBQFythfE4irbTIeOgYYfBU/rtlxd0zOixA9QHdIZB26-St5qgQ\"', 'id': '39', 'snippet': {'channelId': 'UCBR8-60-B28hp2BmDPdntcQ', 'title': 'Horror', 'assignable': False}}, {'kind': 'youtube#videoCategory', 'etag': '\"m2yskBQFythfE4irbTIeOgYYfBU/N1TrDFLRppxZgBowCJfJCvh0Dpg\"', 'id': '40', 'snippet': {'channelId': 'UCBR8-60-B28hp2BmDPdntcQ', 'title': 'Sci-Fi/Fantasy', 'assignable': False}}, {'kind': 'youtube#videoCategory', 'etag': '\"m2yskBQFythfE4irbTIeOgYYfBU/7UMGi6zRySqXopr_rv4sZq6Za2E\"', 'id': '41', 'snippet': {'channelId': 'UCBR8-60-B28hp2BmDPdntcQ', 'title': 'Thriller', 'assignable': False}}, {'kind': 'youtube#videoCategory', 'etag': '\"m2yskBQFythfE4irbTIeOgYYfBU/RScXhi324h8usyIetreAVb-uKeM\"', 'id': '42', 'snippet': {'channelId': 'UCBR8-60-B28hp2BmDPdntcQ', 'title': 'Shorts', 'assignable': False}}, {'kind': 'youtube#videoCategory', 'etag': '\"m2yskBQFythfE4irbTIeOgYYfBU/0n9MJVCDLpA8q7aiGVrFsuFsd0A\"', 'id': '43', 'snippet': {'channelId': 'UCBR8-60-B28hp2BmDPdntcQ', 'title': 'Shows', 'assignable': False}}, {'kind': 'youtube#videoCategory', 'etag': '\"m2yskBQFythfE4irbTIeOgYYfBU/x5NxSf5fz8hn4loSN4rvhwzD_pY\"', 'id': '44', 'snippet': {'channelId': 'UCBR8-60-B28hp2BmDPdntcQ', 'title': 'Trailers', 'assignable': False}}]}\n"
     ]
    }
   ],
   "source": [
    "cat_json = pd.read_json(\"US_category_id.JSON\")\n",
    "with open(\"US_category_id.JSON\") as f:\n",
    "    data = json.load(f)\n",
    "    print(data)"
   ]
  },
  {
   "cell_type": "code",
   "execution_count": 9,
   "metadata": {},
   "outputs": [],
   "source": [
    "cat_dict = [{'id': item['id'], 'title': item['snippet']['title']} for item in cat_json['items']]"
   ]
  },
  {
   "cell_type": "code",
   "execution_count": 10,
   "metadata": {},
   "outputs": [
    {
     "data": {
      "text/html": [
       "<div>\n",
       "<style scoped>\n",
       "    .dataframe tbody tr th:only-of-type {\n",
       "        vertical-align: middle;\n",
       "    }\n",
       "\n",
       "    .dataframe tbody tr th {\n",
       "        vertical-align: top;\n",
       "    }\n",
       "\n",
       "    .dataframe thead th {\n",
       "        text-align: right;\n",
       "    }\n",
       "</style>\n",
       "<table border=\"1\" class=\"dataframe\">\n",
       "  <thead>\n",
       "    <tr style=\"text-align: right;\">\n",
       "      <th></th>\n",
       "      <th>category_id</th>\n",
       "      <th>category</th>\n",
       "    </tr>\n",
       "  </thead>\n",
       "  <tbody>\n",
       "    <tr>\n",
       "      <th>0</th>\n",
       "      <td>1</td>\n",
       "      <td>Film &amp; Animation</td>\n",
       "    </tr>\n",
       "    <tr>\n",
       "      <th>1</th>\n",
       "      <td>2</td>\n",
       "      <td>Autos &amp; Vehicles</td>\n",
       "    </tr>\n",
       "    <tr>\n",
       "      <th>2</th>\n",
       "      <td>10</td>\n",
       "      <td>Music</td>\n",
       "    </tr>\n",
       "  </tbody>\n",
       "</table>\n",
       "</div>"
      ],
      "text/plain": [
       "  category_id          category\n",
       "0           1  Film & Animation\n",
       "1           2  Autos & Vehicles\n",
       "2          10             Music"
      ]
     },
     "execution_count": 10,
     "metadata": {},
     "output_type": "execute_result"
    }
   ],
   "source": [
    "us_cat_df = pd.DataFrame(cat_dict)\n",
    "categories = us_cat_df.rename(index=str, columns={\"id\": \"category_id\", \"title\": \"category\"})\n",
    "categories.head(3)"
   ]
  },
  {
   "cell_type": "code",
   "execution_count": 11,
   "metadata": {},
   "outputs": [
    {
     "data": {
      "text/plain": [
       "0                                       SHANtell martin\n",
       "1     last week tonight trump presidency|\"last week ...\n",
       "2     racist superman|\"rudy\"|\"mancuso\"|\"king\"|\"bach\"...\n",
       "3     rhett and link|\"gmm\"|\"good mythical morning\"|\"...\n",
       "4     ryan|\"higa\"|\"higatv\"|\"nigahiga\"|\"i dare you\"|\"...\n",
       "5     ijustine|\"week with iPhone X\"|\"iphone x\"|\"appl...\n",
       "6     SNL|\"Saturday Night Live\"|\"SNL Season 43\"|\"Epi...\n",
       "7     5 Ice Cream Gadgets|\"Ice Cream\"|\"Cream Sandwic...\n",
       "8     Trailer|\"Hugh Jackman\"|\"Michelle Williams\"|\"Za...\n",
       "9     vox.com|\"vox\"|\"explain\"|\"shift change\"|\"future...\n",
       "10    NFL|\"Football\"|\"offense\"|\"defense\"|\"afc\"|\"nfc\"...\n",
       "11    The Walking Dead|\"shiva\"|\"tiger\"|\"king ezekiel...\n",
       "12    marshmello|\"blocks\"|\"marshmello blocks\"|\"block...\n",
       "13    nowthis|\"nowthis world\"|\"world news\"|\"nowthis ...\n",
       "14    shopping for new fish|\"new fish\"|\"aquarium fis...\n",
       "15    Robots|\"Boston Dynamics\"|\"SpotMini\"|\"Legged Lo...\n",
       "16    pacific rim|\"pacific rim 2\"|\"pacific rim seque...\n",
       "17    TED|\"TED-Ed\"|\"TED Education\"|\"TED Ed\"|\"Hilary ...\n",
       "18    ultralight|\"airplane\"|\"homemade\"|\"DIY\"|\"hoverb...\n",
       "19    SciShow|\"science\"|\"Hank\"|\"Green\"|\"education\"|\"...\n",
       "20    life noggin|\"life noggin youtube\"|\"youtube lif...\n",
       "21    tested|\"testedcom\"|\"designercon 2017\"|\"preview...\n",
       "22    tom scott|\"tomscott\"|\"built for science\"|\"nati...\n",
       "23    refinery29|\"refinery 29\"|\"r29\"|\"r29 video\"|\"vi...\n",
       "24    using other peoples showers|\"gus\"|\"gus shower\"...\n",
       "25    spaghetti burrito|\"diy burrito\"|\"spaghetti\"|\"b...\n",
       "26            numberphile|\"prime numbers\"|\"proth prime\"\n",
       "27    Smart mug|\"Heated thermos\"|\"tech\"|\"gift idea\"|...\n",
       "28                                    auth-jvardon-auth\n",
       "29    freaks and geeks|\"jason segel\"|\"judd apatow\"|\"...\n",
       "30    carmax|\"lamborghini miura\"|\"miura carmax\"|\"lam...\n",
       "31    Amazon|\"Amazon Christmas\"|\"Amazon Xmas\"|\"Chris...\n",
       "32    Eminem|\"Walk\"|\"On\"|\"Water\"|\"Aftermath/Shady/In...\n",
       "33    detective|\"officer\"|\"401\"|\"officer401\"|\"police...\n",
       "34                               Emirates|\"First Class\"\n",
       "35                            cute|\"cats\"|\"thai\"|\"eggs\"\n",
       "36    screenjunkies|\"screen junkies\"|\"sj news\"|\"hone...\n",
       "37    Hunter|\"Hayes\"|\"you should be loved\"|\"the shad...\n",
       "38    niki and gabi|\"nikiandgabibeauty\"|\"celebrities...\n",
       "39    Nickelback|\"Feed The Machine\"|\"The Betrayal Ac...\n",
       "40        U2|\"The\"|\"Blackout\"|\"Island\"|\"Records\"|\"Rock\"\n",
       "41    bbc|\"bbc news\"|\"news\"|\"iran\"|\"iran news\"|\"iraq...\n",
       "42                                               [none]\n",
       "43    matthew santoro facts|\"music video\"|\"matthew s...\n",
       "44    shawn johnson|\"andrew east\"|\"shawn east\"|\"shaw...\n",
       "45    iphone x|\"iphonex makeup\"|\"iphonex test\"|\"new ...\n",
       "46    people are awesome|\"people are awesome 2017\"|\"...\n",
       "47                            NBA|\"Basketball\"|\"Sports\"\n",
       "48    D3sports|\"NCAA Division III\"|\"D3sports.com\"|\"D...\n",
       "49    iPhone X|\"animojis\"|\"facial recognition\"|\"ELDE...\n",
       "Name: tags, dtype: object"
      ]
     },
     "execution_count": 11,
     "metadata": {},
     "output_type": "execute_result"
    }
   ],
   "source": [
    "us_df['tags'].head(50)"
   ]
  },
  {
   "cell_type": "code",
   "execution_count": 12,
   "metadata": {},
   "outputs": [
    {
     "data": {
      "text/plain": [
       "6055"
      ]
     },
     "execution_count": 12,
     "metadata": {},
     "output_type": "execute_result"
    }
   ],
   "source": [
    "us_df['tags'].unique().shape[0]"
   ]
  },
  {
   "cell_type": "code",
   "execution_count": 13,
   "metadata": {},
   "outputs": [],
   "source": [
    "all_tags = []\n",
    "for tgs in us_df['tags']:\n",
    "    if tgs == '[none]': continue\n",
    "    all_tags.extend(tgs.split('|'))\n",
    "tags_freq = pd.Series(all_tags).value_counts().to_dict()"
   ]
  },
  {
   "cell_type": "code",
   "execution_count": 14,
   "metadata": {},
   "outputs": [
    {
     "data": {
      "text/plain": [
       "[('\"funny\"', 3584),\n",
       " ('\"comedy\"', 2863),\n",
       " ('\"how to\"', 1560),\n",
       " ('\"Pop\"', 1273),\n",
       " ('\"2018\"', 1251),\n",
       " ('\"music\"', 1221),\n",
       " ('\"humor\"', 1171),\n",
       " ('\"food\"', 1134),\n",
       " ('\"science\"', 1087),\n",
       " ('\"review\"', 1002),\n",
       " ('\"news\"', 941),\n",
       " ('\"vlog\"', 928),\n",
       " ('\"makeup\"', 924),\n",
       " ('\"celebrity\"', 881),\n",
       " ('\"tutorial\"', 864),\n",
       " ('\"live\"', 862),\n",
       " ('\"comedian\"', 861),\n",
       " ('\"interview\"', 845),\n",
       " ('\"video\"', 799),\n",
       " ('\"cooking\"', 780),\n",
       " ('\"television\"', 779),\n",
       " ('\"celebrities\"', 767),\n",
       " ('\"fun\"', 737),\n",
       " ('\"movie\"', 732),\n",
       " ('\"cute\"', 726),\n",
       " ('\"trailer\"', 711),\n",
       " ('\"Comedy\"', 710),\n",
       " ('\"family friendly\"', 694),\n",
       " ('\"official\"', 690),\n",
       " ('\"hollywood\"', 675),\n",
       " ('\"funny video\"', 673),\n",
       " ('\"NBC\"', 666),\n",
       " ('\"Records\"', 647),\n",
       " ('\"entertainment\"', 647),\n",
       " ('\"challenge\"', 641),\n",
       " ('\"2017\"', 641),\n",
       " ('\"sports\"', 639),\n",
       " ('\"education\"', 635),\n",
       " ('\"jokes\"', 626),\n",
       " ('\"animation\"', 608),\n",
       " ('\"late night\"', 607),\n",
       " ('\"recipe\"', 605),\n",
       " ('\"beauty\"', 591),\n",
       " ('\"animals\"', 589),\n",
       " ('\"basketball\"', 588),\n",
       " ('\"makeup tutorial\"', 583),\n",
       " ('\"sketch\"', 575),\n",
       " ('\"game\"', 574),\n",
       " ('\"Trailer\"', 567),\n",
       " ('\"fashion\"', 564),\n",
       " ('\"best\"', 562),\n",
       " ('\"music video\"', 557),\n",
       " ('\"talk show\"', 554),\n",
       " ('\"diy\"', 549),\n",
       " ('\"documentary\"', 541),\n",
       " ('\"Funny\"', 539),\n",
       " ('\"reaction\"', 534),\n",
       " ('\"technology\"', 514),\n",
       " ('\"show\"', 513),\n",
       " ('\"movies\"', 509),\n",
       " ('\"family\"', 506),\n",
       " ('\"hilarious\"', 491),\n",
       " ('\"new\"', 484),\n",
       " ('\"funny videos\"', 482),\n",
       " ('\"games\"', 478),\n",
       " ('\"clip\"', 472),\n",
       " ('\"highlights\"', 463),\n",
       " ('\"drama\"', 443),\n",
       " ('\"film\"', 438),\n",
       " ('\"chef\"', 438),\n",
       " ('\"amazing\"', 438),\n",
       " ('\"christmas\"', 432),\n",
       " ('\"kitchen\"', 427),\n",
       " ('\"kids\"', 426),\n",
       " ('\"joke\"', 420),\n",
       " ('\"love\"', 419),\n",
       " ('\"vlogger\"', 414),\n",
       " ('\"CBS\"', 398),\n",
       " ('\"comedic\"', 396),\n",
       " ('\"celeb\"', 395),\n",
       " ('\"health\"', 391),\n",
       " ('\"host\"', 391),\n",
       " ('\"animated\"', 390),\n",
       " ('\"famous\"', 387),\n",
       " ('\"parody\"', 385),\n",
       " ('\"cosmetics\"', 383),\n",
       " ('\"react\"', 380),\n",
       " ('\"NBC TV\"', 380),\n",
       " ('\"highlight\"', 367),\n",
       " ('\"politics\"', 366),\n",
       " ('\"lol\"', 365),\n",
       " ('\"laugh\"', 356),\n",
       " ('\"pop\"', 354),\n",
       " ('\"cook\"', 350),\n",
       " ('\"song\"', 349),\n",
       " ('\"unboxing\"', 349),\n",
       " ('\"pets\"', 347),\n",
       " ('\"dance\"', 346),\n",
       " ('\"talk\"', 345),\n",
       " ('\"Music\"', 341)]"
      ]
     },
     "execution_count": 14,
     "metadata": {},
     "output_type": "execute_result"
    }
   ],
   "source": [
    "sorted(tags_freq.items(), key=lambda x: x[1], reverse=True)[:100]"
   ]
  },
  {
   "cell_type": "code",
   "execution_count": 15,
   "metadata": {},
   "outputs": [],
   "source": [
    "vector = CountVectorizer()\n",
    "counts = vector.fit_transform(us_df['tags'].values)"
   ]
  },
  {
   "cell_type": "code",
   "execution_count": 16,
   "metadata": {},
   "outputs": [
    {
     "data": {
      "text/plain": [
       "MultinomialNB()"
      ]
     },
     "execution_count": 16,
     "metadata": {},
     "output_type": "execute_result"
    }
   ],
   "source": [
    "# Define the model\n",
    "NB_Model = MultinomialNB()\n",
    "targets = us_df['category_id'].values\n",
    "NB_Model.fit(counts,targets)"
   ]
  },
  {
   "cell_type": "code",
   "execution_count": 17,
   "metadata": {},
   "outputs": [
    {
     "name": "stdout",
     "output_type": "stream",
     "text": [
      "The Naive Bayes Algorithm scored an accuracy of 0.9045177045177045\n"
     ]
    }
   ],
   "source": [
    "X= counts\n",
    "y= targets\n",
    "X_train, X_test, y_train, y_test = train_test_split(X, y, test_size = .1)\n",
    "\n",
    "NBtest = MultinomialNB().fit(X_train, y_train)\n",
    "nb_predictions = NBtest.predict(X_test)\n",
    "acc_nb = NBtest.score(X_test, y_test)\n",
    "print('The Naive Bayes Algorithm scored an accuracy of', acc_nb)"
   ]
  },
  {
   "cell_type": "code",
   "execution_count": 18,
   "metadata": {},
   "outputs": [
    {
     "data": {
      "text/plain": [
       "(40949, 23483)"
      ]
     },
     "execution_count": 18,
     "metadata": {},
     "output_type": "execute_result"
    }
   ],
   "source": [
    "X.shape"
   ]
  },
  {
   "cell_type": "code",
   "execution_count": 19,
   "metadata": {},
   "outputs": [
    {
     "data": {
      "text/plain": [
       "(40949,)"
      ]
     },
     "execution_count": 19,
     "metadata": {},
     "output_type": "execute_result"
    }
   ],
   "source": [
    "y.shape"
   ]
  },
  {
   "cell_type": "code",
   "execution_count": 20,
   "metadata": {},
   "outputs": [],
   "source": [
    "# Choose random sample of tag words\n",
    "Tags = [\"Billie Eilish\",\n",
    "        \"SNL\",\n",
    "        \"you should be loved\",\n",
    "        \"NBA\",\n",
    "        \"react\",\n",
    "        \"marvel\",\n",
    "        \"Taylor Swift\",\n",
    "        \"BLACKPINK\",\n",
    "        \"BTS\",\n",
    "        \"penguins\",\n",
    "        \"vaccines\",\n",
    "        \"donald trump\",\n",
    "        \"Tryguys\",\n",
    "        \"TED TALK\",\n",
    "        \"Dark Souls\"\n",
    "         ]"
   ]
  },
  {
   "cell_type": "code",
   "execution_count": 21,
   "metadata": {},
   "outputs": [
    {
     "data": {
      "text/plain": [
       "array([10, 24, 10, 17, 24, 24, 10, 24, 10, 15, 28, 25, 24, 27, 20],\n",
       "      dtype=int64)"
      ]
     },
     "execution_count": 21,
     "metadata": {},
     "output_type": "execute_result"
    }
   ],
   "source": [
    "tags_counts = vector.transform(Tags)\n",
    "prediction = NB_Model.predict(tags_counts)\n",
    "prediction"
   ]
  },
  {
   "cell_type": "code",
   "execution_count": 22,
   "metadata": {},
   "outputs": [],
   "source": [
    "category_list = []\n",
    "for category_id in prediction:\n",
    "    matching = [x for x in cat_dict if x[\"id\"] == str(category_id)]\n",
    "    if matching:\n",
    "        category_list.append(matching[0][\"title\"])"
   ]
  },
  {
   "cell_type": "code",
   "execution_count": 23,
   "metadata": {},
   "outputs": [],
   "source": [
    "tags_df = []\n",
    "for i in range(0, len(Tags)):\n",
    "    tags_cat = {'tags': Tags[i],  'category_id': category_list[i]}\n",
    "    tags_df.append(tags_cat)"
   ]
  },
  {
   "cell_type": "code",
   "execution_count": 24,
   "metadata": {},
   "outputs": [],
   "source": [
    "prediction_df = pd.DataFrame(prediction)\n",
    "tags_df = pd.DataFrame(tags_df)\n",
    "df = pd.concat([prediction_df, tags_df], axis=1)\n",
    "df.columns = (['Categ_ID','Video Tag', 'Category'])\n",
    "us_pred_df = df.drop(['Categ_ID'],axis=1)\n",
    "cols = us_pred_df.columns.tolist()\n",
    "cols = cols[-1:] + cols[:-1]\n",
    "us_pred_df= us_pred_df[cols]"
   ]
  },
  {
   "cell_type": "code",
   "execution_count": 25,
   "metadata": {},
   "outputs": [
    {
     "data": {
      "text/html": [
       "<div>\n",
       "<style scoped>\n",
       "    .dataframe tbody tr th:only-of-type {\n",
       "        vertical-align: middle;\n",
       "    }\n",
       "\n",
       "    .dataframe tbody tr th {\n",
       "        vertical-align: top;\n",
       "    }\n",
       "\n",
       "    .dataframe thead th {\n",
       "        text-align: right;\n",
       "    }\n",
       "</style>\n",
       "<table border=\"1\" class=\"dataframe\">\n",
       "  <thead>\n",
       "    <tr style=\"text-align: right;\">\n",
       "      <th></th>\n",
       "      <th>Category</th>\n",
       "      <th>Video Tag</th>\n",
       "    </tr>\n",
       "  </thead>\n",
       "  <tbody>\n",
       "    <tr>\n",
       "      <th>0</th>\n",
       "      <td>Music</td>\n",
       "      <td>Billie Eilish</td>\n",
       "    </tr>\n",
       "    <tr>\n",
       "      <th>1</th>\n",
       "      <td>Entertainment</td>\n",
       "      <td>SNL</td>\n",
       "    </tr>\n",
       "    <tr>\n",
       "      <th>2</th>\n",
       "      <td>Music</td>\n",
       "      <td>you should be loved</td>\n",
       "    </tr>\n",
       "    <tr>\n",
       "      <th>3</th>\n",
       "      <td>Sports</td>\n",
       "      <td>NBA</td>\n",
       "    </tr>\n",
       "    <tr>\n",
       "      <th>4</th>\n",
       "      <td>Entertainment</td>\n",
       "      <td>react</td>\n",
       "    </tr>\n",
       "    <tr>\n",
       "      <th>5</th>\n",
       "      <td>Entertainment</td>\n",
       "      <td>marvel</td>\n",
       "    </tr>\n",
       "    <tr>\n",
       "      <th>6</th>\n",
       "      <td>Music</td>\n",
       "      <td>Taylor Swift</td>\n",
       "    </tr>\n",
       "    <tr>\n",
       "      <th>7</th>\n",
       "      <td>Entertainment</td>\n",
       "      <td>BLACKPINK</td>\n",
       "    </tr>\n",
       "    <tr>\n",
       "      <th>8</th>\n",
       "      <td>Music</td>\n",
       "      <td>BTS</td>\n",
       "    </tr>\n",
       "    <tr>\n",
       "      <th>9</th>\n",
       "      <td>Pets &amp; Animals</td>\n",
       "      <td>penguins</td>\n",
       "    </tr>\n",
       "    <tr>\n",
       "      <th>10</th>\n",
       "      <td>Science &amp; Technology</td>\n",
       "      <td>vaccines</td>\n",
       "    </tr>\n",
       "    <tr>\n",
       "      <th>11</th>\n",
       "      <td>News &amp; Politics</td>\n",
       "      <td>donald trump</td>\n",
       "    </tr>\n",
       "    <tr>\n",
       "      <th>12</th>\n",
       "      <td>Entertainment</td>\n",
       "      <td>Tryguys</td>\n",
       "    </tr>\n",
       "    <tr>\n",
       "      <th>13</th>\n",
       "      <td>Education</td>\n",
       "      <td>TED TALK</td>\n",
       "    </tr>\n",
       "    <tr>\n",
       "      <th>14</th>\n",
       "      <td>Gaming</td>\n",
       "      <td>Dark Souls</td>\n",
       "    </tr>\n",
       "  </tbody>\n",
       "</table>\n",
       "</div>"
      ],
      "text/plain": [
       "                Category            Video Tag\n",
       "0                  Music        Billie Eilish\n",
       "1          Entertainment                  SNL\n",
       "2                  Music  you should be loved\n",
       "3                 Sports                  NBA\n",
       "4          Entertainment                react\n",
       "5          Entertainment               marvel\n",
       "6                  Music         Taylor Swift\n",
       "7          Entertainment            BLACKPINK\n",
       "8                  Music                  BTS\n",
       "9         Pets & Animals             penguins\n",
       "10  Science & Technology             vaccines\n",
       "11       News & Politics         donald trump\n",
       "12         Entertainment              Tryguys\n",
       "13             Education             TED TALK\n",
       "14                Gaming           Dark Souls"
      ]
     },
     "execution_count": 25,
     "metadata": {},
     "output_type": "execute_result"
    }
   ],
   "source": [
    "us_pred_df"
   ]
  }
 ],
 "metadata": {
  "kernelspec": {
   "display_name": "Python 3",
   "language": "python",
   "name": "python3"
  },
  "language_info": {
   "codemirror_mode": {
    "name": "ipython",
    "version": 3
   },
   "file_extension": ".py",
   "mimetype": "text/x-python",
   "name": "python",
   "nbconvert_exporter": "python",
   "pygments_lexer": "ipython3",
   "version": "3.7.9"
  }
 },
 "nbformat": 4,
 "nbformat_minor": 4
}
